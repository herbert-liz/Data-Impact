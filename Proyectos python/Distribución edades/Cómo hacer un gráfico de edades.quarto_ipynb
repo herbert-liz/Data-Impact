{
  "cells": [
    {
      "cell_type": "markdown",
      "metadata": {},
      "source": [
        "---\n",
        "title: \"Cómo crear gráficos de distribución de edades\"\n",
        "author: \"Herbert Lizama\"\n",
        "format: pdf\n",
        "---\n",
        "\n",
        "Las liberías que usaremos en este archivo son:"
      ],
      "id": "d2ab8f64"
    },
    {
      "cell_type": "code",
      "metadata": {},
      "source": [
        "import pandas as pd\n",
        "import numpy as np"
      ],
      "id": "5c45f956",
      "execution_count": null,
      "outputs": []
    },
    {
      "cell_type": "markdown",
      "metadata": {},
      "source": [
        "# Datos\n",
        "Primero necesitamos cargar los datos y estructurarlos de la siguiente manera:"
      ],
      "id": "ce983a5e"
    },
    {
      "cell_type": "code",
      "metadata": {},
      "source": [
        "datos = pd.read_csv(\"poblacion2020.csv\")\n",
        "datos.head()"
      ],
      "id": "9152d769",
      "execution_count": null,
      "outputs": []
    }
  ],
  "metadata": {
    "kernelspec": {
      "name": "nombre_del_env",
      "language": "python",
      "display_name": "Python (prueba env)",
      "path": "C:\\Users\\HerbertRaulLizamaBas\\AppData\\Roaming\\jupyter\\kernels\\nombre_del_env"
    }
  },
  "nbformat": 4,
  "nbformat_minor": 5
}